{
 "cells": [
  {
   "cell_type": "code",
   "execution_count": 1,
   "id": "20ca1bda-b123-477f-9c06-4cdd4eb3f229",
   "metadata": {},
   "outputs": [
    {
     "name": "stdout",
     "output_type": "stream",
     "text": [
      "Collecting simple_image_download==0.4\n",
      "  Downloading simple_image_download-0.4-py3-none-any.whl (4.9 kB)\n",
      "Collecting python-magic-bin==0.4.14\n",
      "  Downloading python_magic_bin-0.4.14-py2.py3-none-macosx_10_6_intel.whl (334 kB)\n",
      "\u001b[2K     \u001b[90m━━━━━━━━━━━━━━━━━━━━━━━━━━━━━━━━━━━━━━━\u001b[0m \u001b[32m334.3/334.3 kB\u001b[0m \u001b[31m2.5 MB/s\u001b[0m eta \u001b[36m0:00:00\u001b[0ma \u001b[36m0:00:01\u001b[0m\n",
      "\u001b[?25hCollecting progressbar\n",
      "  Downloading progressbar-2.5.tar.gz (10 kB)\n",
      "  Preparing metadata (setup.py) ... \u001b[?25ldone\n",
      "\u001b[?25hRequirement already satisfied: requests in /Users/yoonjung/opt/anaconda3/lib/python3.8/site-packages (from simple_image_download==0.4) (2.26.0)\n",
      "Requirement already satisfied: urllib3<1.27,>=1.21.1 in /Users/yoonjung/opt/anaconda3/lib/python3.8/site-packages (from requests->simple_image_download==0.4) (1.26.7)\n",
      "Requirement already satisfied: certifi>=2017.4.17 in /Users/yoonjung/opt/anaconda3/lib/python3.8/site-packages (from requests->simple_image_download==0.4) (2021.10.8)\n",
      "Requirement already satisfied: charset-normalizer~=2.0.0 in /Users/yoonjung/opt/anaconda3/lib/python3.8/site-packages (from requests->simple_image_download==0.4) (2.0.4)\n",
      "Requirement already satisfied: idna<4,>=2.5 in /Users/yoonjung/opt/anaconda3/lib/python3.8/site-packages (from requests->simple_image_download==0.4) (3.2)\n",
      "Building wheels for collected packages: progressbar\n",
      "  Building wheel for progressbar (setup.py) ... \u001b[?25ldone\n",
      "\u001b[?25h  Created wheel for progressbar: filename=progressbar-2.5-py3-none-any.whl size=12082 sha256=a501825580f88d972f13f640b63cf2b416f3c431a5705cc100f0f9bdff39fee1\n",
      "  Stored in directory: /Users/yoonjung/Library/Caches/pip/wheels/2c/67/ed/d84123843c937d7e7f5ba88a270d11036473144143355e2747\n",
      "Successfully built progressbar\n",
      "Installing collected packages: python-magic-bin, progressbar, simple_image_download\n",
      "Successfully installed progressbar-2.5 python-magic-bin-0.4.14 simple_image_download-0.4\n",
      "\n",
      "\u001b[1m[\u001b[0m\u001b[34;49mnotice\u001b[0m\u001b[1;39;49m]\u001b[0m\u001b[39;49m A new release of pip is available: \u001b[0m\u001b[31;49m23.0.1\u001b[0m\u001b[39;49m -> \u001b[0m\u001b[32;49m23.1\u001b[0m\n",
      "\u001b[1m[\u001b[0m\u001b[34;49mnotice\u001b[0m\u001b[1;39;49m]\u001b[0m\u001b[39;49m To update, run: \u001b[0m\u001b[32;49mpip install --upgrade pip\u001b[0m\n"
     ]
    }
   ],
   "source": [
    "!pip install simple_image_download==0.4\n",
    "!pip install labelImg"
   ]
  },
  {
   "cell_type": "code",
   "execution_count": 1,
   "id": "9850a31b-42ae-4c5b-9d61-5918df646199",
   "metadata": {},
   "outputs": [
    {
     "name": "stderr",
     "output_type": "stream",
     "text": [
      "[========================================================================] 100%\n",
      "[========================================================================] 100%\n"
     ]
    }
   ],
   "source": [
    "from simple_image_download import simple_image_download as simp\n",
    "\n",
    "response = simp.simple_image_download\n",
    "\n",
    "keywords = [\"paw patrol chase\",\"paw patrol marshall\"]\n",
    "\n",
    "for keyword in keywords:\n",
    "    response().download(keyword, 200)"
   ]
  },
  {
   "cell_type": "code",
   "execution_count": null,
   "id": "342a2388-193a-4882-9578-7eb0b8b8c780",
   "metadata": {},
   "outputs": [],
   "source": []
  }
 ],
 "metadata": {
  "kernelspec": {
   "display_name": "Python 3 (ipykernel)",
   "language": "python",
   "name": "python3"
  },
  "language_info": {
   "codemirror_mode": {
    "name": "ipython",
    "version": 3
   },
   "file_extension": ".py",
   "mimetype": "text/x-python",
   "name": "python",
   "nbconvert_exporter": "python",
   "pygments_lexer": "ipython3",
   "version": "3.8.12"
  }
 },
 "nbformat": 4,
 "nbformat_minor": 5
}
